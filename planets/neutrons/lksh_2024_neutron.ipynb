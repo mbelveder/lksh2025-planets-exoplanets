{
 "cells": [
  {
   "cell_type": "markdown",
   "metadata": {},
   "source": [
    "# Нейтронная планетология\n",
    "Нейтронная планетология - это область космических исследований, которая позволяет нам заглянуть внутрь небесных тел и понять их внутренний состав. Она основана на изучении взаимодействия нейтронов с веществом. Нейтроны - это нейтральные субатомные частицы, которые могут проникать глубоко в материю и взаимодействовать с ядрами атомов. Это взаимодействие зависит от химического состава и плотности вещества, что позволяет нам получить информацию о составе.\n",
    "\n",
    "Космические аппараты, оснащенные нейтронными детекторами, могут регистрировать нейтроны, испускаемые планетой. Эта характеристика называется нейтронным альбедо. Анализируя спектр этих нейтронов, мы можем определить наличие воды и других летучих веществ, содержание различных элементов, а также плотность и структуру верхних слоев, примерно до 2 метров в глубину.\n",
    "\n",
    "Результаты нейтронной планетологии помогают нам восстановить историю формирования и эволюции планет, оценить их потенциал для существования жизни и выбрать оптимальные места для посадки будущих космических миссий. Например, с помощью нейтронных детекторов ведутся активные поиски воды на Луне и Марсе."
   ]
  },
  {
   "cell_type": "markdown",
   "metadata": {},
   "source": [
    "Для данной практики были использованы симуляционные данные прибора ДАН. Блок ДАН-ДЭ выполнен в виде моноблока и весит 2,1 кг. На боковых сторонах корпуса расположены два газовых пропорциональных счетчика, заполненных 3He. Детекторный блок ДАН-ДЭ содержит два пропорциональных счетчика - Counter of Epithermal Neutron (CETN), регистрирующий эпитепловые нейтроны с энергиями выше порога 0,4 эВ с использованием экрана из кадмия, и Counter of Total Neutron (CTN), который измеряет нейтроны как в тепловом, так и в эпитепловом диапазоне энергий.\n",
    "\n",
    "Эти гелиевые детекторы используются для измерения потоков нейтронов и являются хорошо известным методом регистрации нейтронов в ядерной физике. Реакция регистрации включает захват нейтрона ядрами 3He. В ходе реакции образуется по одному протону и тритону на каждый обнаруженный нейтрон. Захватное сечение этой реакции возрастает при снижении энергии нейтронов, поэтому счетчики 3He применяются в основном для обнаружения тепловых и низкоэнергетических эпитепловых нейтронов.\n",
    "\n",
    "Процессы замедления и поглощения нейтронов в марсианском реголите определяют поток нейтронов, выходящих из него и регистрируемых прибором ДАН, и его изменение со временем. Доля энергии, теряемая нейтроном при каждом упругом соударении, тем выше, чем меньше масса ядра, участвующего в соударении. Добавление даже небольшого количества водородосодержащего вещества в состав реголита приводит к увеличению эффективности замедления нейтронов и изменению динамики выхода эпитепловых и тепловых нейтронов. Анализ временного профиля перерассеянных и замедлившихся нейтронов, выходящих из верхних слоев марсианской поверхности, позволяет определить содержание водорода в этом слое и его распределение по глубине."
   ]
  },
  {
   "cell_type": "markdown",
   "metadata": {},
   "source": [
    "## Загрузка данных\n",
    "В рамках данной практики мы анализируем нейтронные данные, собранные во время движения марсохода. В течение месяца были собраны данные о темпе счета в различных регионах. В ходе анализа было обнаружено, что в некоторых областях наблюдается значительное изменение этого показателя. Эти области, скорее всего, содержат гидратированные минералы, которые влияют на скорость процесса.\n",
    "\n",
    "Для более точного определения причин изменения темпа счета необходимо провести дополнительные исследования и анализ собранных данных. И выделить области, которые заслуживают повышенного внимания.\n",
    "\n",
    "Данные, собранные в течение месяца, хранятся в таблице, расположенной в папке под названием \"Data\". Эта таблица содержит 10 столбцов:\n",
    "\n",
    "1. SCLK - внутреннее время марсохода.\n",
    "2. AccTime - время накопления фрейма (единицы) данных.\n",
    "3. CTN - темп счета тепловых и эпитепловых нейтронов в детекторе CTN.\n",
    "4. CETN - темп счета эпитепловых нейтронов в детекторе CETN.\n",
    "5. LMST - марсианское время.\n",
    "6. UTC - земное время.\n",
    "7. Table_Odom - значение длины пройденного пути марсохода.\n",
    "8.  X - \n",
    "9.  Y - координаты на Марсе.\n",
    "10. Z - \n"
   ]
  },
  {
   "cell_type": "markdown",
   "metadata": {},
   "source": [
    "## Обработка данных"
   ]
  },
  {
   "cell_type": "markdown",
   "metadata": {},
   "source": [
    "Для начала инициализируем модули python - pandas и matplotlib. \n",
    "\n",
    "Pandas — это библиотека Python для работы с данными. Она предоставляет удобные инструменты для структуризации, анализа и визуализации данных. Основные функции pandas включают работу с таблицами данных (DataFrame), индексацию, группировку, сортировку, агрегацию, объединение и многое другое.\n",
    "\n",
    "Matplotlib — это библиотека Python для создания двумерных графиков и визуализаций. Она предоставляет широкий спектр возможностей для создания различных типов графиков, включая линейные графики, круговые диаграммы, гистограммы, карты и многое другое. В Matplotlib также возможно создание интерактивных графиков и анимаций."
   ]
  },
  {
   "cell_type": "code",
   "execution_count": 5,
   "metadata": {},
   "outputs": [],
   "source": [
    "import pandas as pd\n",
    "import matplotlib.pyplot as plt"
   ]
  },
  {
   "cell_type": "markdown",
   "metadata": {},
   "source": [
    "После инциализации следуюет открыть файл практики с помощью модуля pandas. В pandas для открытия файла CSV используется метод ```read_csv()```. Вот пример кода, который открывает файл CSV и сохраняет данные в объект DataFrame:"
   ]
  },
  {
   "cell_type": "code",
   "execution_count": null,
   "metadata": {},
   "outputs": [],
   "source": [
    "# Путь к файлу может быть заменен на абсолютный путь или относительный к текущему каталогу\n",
    "file_path = 'your_file.csv'\n",
    "\n",
    "# Чтение файла CSV и преобразование его в DataFrame\n",
    "df = pd.read_csv(file_path, sep=';')"
   ]
  },
  {
   "cell_type": "markdown",
   "metadata": {},
   "source": [
    "Этот код предполагает, что у вас есть файл CSV под именем ```your_file.csv``` в той же директории, что и ваш скрипт Python. Если файл находится в другой директории, вам нужно будет указать полный путь к файлу.\n",
    "После того как вы прочитали файл CSV в pandas с помощью ```read_csv()```, вы можете выполнять различные операции с данными в объекте DataFrame. Вот несколько примеров:"
   ]
  },
  {
   "cell_type": "markdown",
   "metadata": {},
   "source": [
    "\n",
    "1. Просмотр первых пяти строк данных:\n",
    "```\n",
    "print(df.head())\n",
    "```\n",
    "\n",
    "2. Просмотр последних пяти строк данных:\n",
    "```\n",
    "print(df.tail())\n",
    "```\n",
    "\n",
    "3. Просмотр количества строк и столбцов в DataFrame:\n",
    "```\n",
    "print(df.shape)\n",
    "```\n",
    "\n",
    "4. Просмотр списка всех столбцов:\n",
    "```\n",
    "print(df.columns)\n",
    "```\n",
    "\n",
    "5. Просмотр типа данных каждого столбца:\n",
    "```\n",
    "df.dtypes\n",
    "```\n",
    "\n",
    "6. Фильтрация данных по условию:\n",
    "```\n",
    "df[df['column_name'] > 10]\n",
    "```\n",
    "\n",
    "7. Группировка данных по столбцу:\n",
    "```\n",
    "grouped_data = df.groupby('column_to_group_by')\n",
    "```\n",
    "\n",
    "8. Агрегирование данных по группам:\n",
    "```\n",
    "aggregated_data = grouped_data.agg({'column_to_sum': 'sum', 'column_to_average': 'mean'})\n",
    "```\n",
    "\n",
    "9. Создание нового столбца на основе существующих:\n",
    "```\n",
    "df['new_column'] = df['column_a'] + df['column_b']\n",
    "```\n",
    "\n",
    "10. Удаление столбца из DataFrame:\n",
    "```\n",
    "del df['column_to_delete']\n",
    "```\n",
    "\n",
    "Это лишь некоторые из множества операций, которые можно выполнять с данными в pandas. Для получения дополнительной информации и примеров, обратитесь к официальной документации pandas."
   ]
  },
  {
   "cell_type": "markdown",
   "metadata": {},
   "source": [
    "После того, как вы загрузили файл данных в модуль, то данные готовы к обработке. Для этого будет использоваться модуль ```matplotlib```.\n",
    "В ```matplotlib``` для создания графика с двумя осями (ось X и ось Y) можно использовать функцию ```plot()```. Вот пример кода, который рисует график синусоиды. (Для этого примера дополнительно понадобится модуль numpy):\n"
   ]
  },
  {
   "cell_type": "code",
   "execution_count": 5,
   "metadata": {},
   "outputs": [
    {
     "data": {
      "image/png": "[encoded data removed]",
      "text/plain": [
       "<Figure size 432x288 with 1 Axes>"
      ]
     },
     "metadata": {
      "needs_background": "light"
     },
     "output_type": "display_data"
    }
   ],
   "source": [
    "import numpy as np\n",
    "\n",
    "x = np.linspace(0, 2  *  np.pi, 100)\n",
    "y = np.sin(x)\n",
    "\n",
    "plt.plot(x, y)\n",
    "plt.show()"
   ]
  },
  {
   "cell_type": "markdown",
   "metadata": {},
   "source": [
    "Но не всегда бывает досаточным нарисовать график только по двум осям, иногда бывает интересно сравнить получаемые данные по нескольким параметрам. Например, оценить возможную связь темпа счета нейтронов с абсолютной высотой поверхности. \n",
    "Для добавления дополнительной оси Y в ```matplotlib```, вы можете использовать функцию ```twinx()``` для создания второй оси Y, которая использует те же значения по оси Х. Вот пример кода, который рисует график с двумя осями Y:"
   ]
  },
  {
   "cell_type": "code",
   "execution_count": 20,
   "metadata": {},
   "outputs": [
    {
     "data": {
      "image/png": "[encoded data removed]",
      "text/plain": [
       "<Figure size 432x288 with 2 Axes>"
      ]
     },
     "metadata": {
      "needs_background": "light"
     },
     "output_type": "display_data"
    }
   ],
   "source": [
    "# Создание данных для графика\n",
    "x = np.linspace(0, 10, 100)\n",
    "y1 = np.sin(x)\n",
    "y2 = np.cos(x)\n",
    "\n",
    "# Создание основного графика\n",
    "fig, ax = plt.subplots()\n",
    "ax.plot(x, y1, 'b-', label='Sin')\n",
    "ax.set_xlabel('x')\n",
    "ax.set_ylabel('y1')\n",
    "ax.legend()\n",
    "\n",
    "# Добавление второй оси Y\n",
    "ax2 = ax.twinx()\n",
    "ax2.plot(x, y2, 'r-', label='Cos')\n",
    "\n",
    "ax2.set_ylabel('y2')\n",
    "\n",
    "ax2.legend(loc='lower left')\n",
    "\n",
    "# Показ графика\n",
    "plt.show()"
   ]
  },
  {
   "cell_type": "markdown",
   "metadata": {},
   "source": [
    "# Анализ данных (самостоятельно)\n",
    "Задание:\n",
    "```\n",
    "1. Используя библиотеку pandas, загрузите файл практики, содержащий данные для анализа.\n",
    "```\n",
    "```\n",
    "2. Изучите структуру данных в файле, определите типы данных и количество столбцов.\n",
    "```\n",
    "```\n",
    "3. Разделите данные на научные и служебные.\n",
    "```\n",
    "```\n",
    "4. Определите переменные, которые будут использоваться для построения графиков.\n",
    "```\n",
    "```\n",
    "5. Используйте библиотеку matplotlib для создания графиков, постройте нейтронный профиль вдоль движения марсохода.\n",
    "```\n",
    "```\n",
    "6. Проанализируйте графики и сделайте выводы о том, как данные могут быть использованы для принятия решений или дальнейшего анализа. Выделите участки движения марсохода, которые по вашему мнению заслуживают дополнительного исследования. Почему вы так решили?\n",
    "```\n",
    "```\n",
    "7. Сохраните результаты в формате картинок. Можете подготовить презентацию, по которой легко интерпретировать и использовать такую обработку в будущем.\n",
    "```"
   ]
  },
  {
   "cell_type": "code",
   "execution_count": null,
   "metadata": {},
   "outputs": [],
   "source": [
    "# Ваш код"
   ]
  },
  {
   "cell_type": "markdown",
   "metadata": {},
   "source": [
    "\n",
    "\n",
    "\n",
    "\n",
    "\n"
   ]
  },
  {
   "cell_type": "markdown",
   "metadata": {},
   "source": [
    "\n"
   ]
  },
  {
   "cell_type": "markdown",
   "metadata": {},
   "source": [
    "# Анализ данных (самостоятельно, сложный)\n",
    "\n",
    "Для выполнения более сложного задания предлагается также использовать библиотеку ```matplotlib``` для визуализации данных. \n",
    "\n",
    "1. Постройте распределения данных. Это позволит наглядно увидеть характер и особенности распределения исследуемых научных данных. Для этого можно использовать различные типы графиков, такие как гистограммы, диаграммы рассеяния, линейные графики и другие, в зависимости от особенностей данных.\n",
    "\n",
    "2. Следующий шаг -- интерпретация полученных результатов. Нужно проанализировать форму распределения, выявить возможные закономерности, аномалии или отклонения от ожидаемого. Эти выводы будут важны для дальнейшего понимания и интерпретации данных.\n",
    "\n",
    "3. Заключительный этап это построение пространственного распределения данных. Это поможет визуализировать территориальное расположение показателей и определить районы с аномальными значениями. Для этого предлагается использовать картографические методы, такие как тепловые карты (```cmap``` и ```colorbar``` в ```matplotlib```).\n",
    "\n",
    "Таким образом, комплексный подход с использованием визуализации данных позволит глубже изучить и понять особенности исследуемого участка пути движения марсохода, выявить закономерности и аномалии, а также определить пространственные особенности распределения данных.\n"
   ]
  },
  {
   "cell_type": "code",
   "execution_count": null,
   "metadata": {},
   "outputs": [],
   "source": [
    "# Ваш код"
   ]
  },
  {
   "cell_type": "raw",
   "metadata": {},
   "source": [
    "***ОТВЕТ***\n",
    "Чтобы использовать cmap и colorbar в Matplotlib, вы можете создать график с помощью plt.scatter() и затем добавить colorbar() для отображения цветовой шкалы. Вот пример кода, который создает график с цветовой картой и цветовой шкалой:\n",
    "\n",
    "import matplotlib.pyplot as plt\n",
    "import numpy as np\n",
    "\n",
    "# Создаем массив значений\n",
    "values = np.random.rand(100)\n",
    "\n",
    "# Создаем градиентную закраску\n",
    "cmap = plt.cm.get_cmap('viridis')\n",
    "norm = plt.Normalize(min(values), max(values))\n",
    "colors = cmap(norm(values))\n",
    "\n",
    "# Рисуем график\n",
    "plt.scatter(range(len(values)), values, c=colors, s=100)\n",
    "\n",
    "# Добавляем цветовую шкалу\n",
    "plt.colorbar()\n",
    "\n",
    "# Показываем график\n",
    "plt.show()\n"
   ]
  },
  {
   "cell_type": "code",
   "execution_count": null,
   "metadata": {},
   "outputs": [],
   "source": [
    "plt.scatter(df.X, df.Y,  \n",
    "            c= df.CTN ,\n",
    "          cmap='jet', s=4, alpha=1)\n",
    "\n",
    "# create colorbar and legend\n",
    "plt.colorbar(label= 'CTN')"
   ]
  },
  {
   "cell_type": "code",
   "execution_count": 19,
   "metadata": {
    "scrolled": false
   },
   "outputs": [
    {
     "data": {
      "text/plain": [
       "<matplotlib.colorbar.Colorbar at 0x1592602f0f0>"
      ]
     },
     "execution_count": 19,
     "metadata": {},
     "output_type": "execute_result"
    },
    {
     "data": {
      "image/png": "[encoded data removed]",
      "text/plain": [
       "<Figure size 432x288 with 2 Axes>"
      ]
     },
     "metadata": {
      "needs_background": "light"
     },
     "output_type": "display_data"
    }
   ],
   "source": [
    "#plt.plot(df.X, df.Y)\n",
    "\n",
    "plt.scatter(df.X, df.Y,  \n",
    "            c= df.CTN ,\n",
    "          cmap='jet', s=4, alpha=1)\n",
    "\n",
    "# create colorbar and legend\n",
    "plt.colorbar(label= 'level')\n"
   ]
  }
 ],
 "metadata": {
  "kernelspec": {
   "display_name": "Python 3 (ipykernel)",
   "language": "python",
   "name": "python3"
  },
  "language_info": {
   "codemirror_mode": {
    "name": "ipython",
    "version": 3
   },
   "file_extension": ".py",
   "mimetype": "text/x-python",
   "name": "python",
   "nbconvert_exporter": "python",
   "pygments_lexer": "ipython3",
   "version": "3.11.5"
  }
 },
 "nbformat": 4,
 "nbformat_minor": 2
}
